{
 "cells": [
  {
   "cell_type": "markdown",
   "id": "aa67ce2b",
   "metadata": {},
   "source": [
    "### Inserting the data id in the first place iteratively\n",
    "skipping the first row while reading\n",
    "reading the data\n",
    "inserting ane column on each data"
   ]
  },
  {
   "cell_type": "code",
   "execution_count": 1,
   "id": "a911ae79",
   "metadata": {},
   "outputs": [],
   "source": [
    "import pandas as pd\n",
    "import os\n",
    "\n",
    "# Directory containing your files\n",
    "directory = 'C:/Users/Ewunetie/OneDrive - University of Gondar,/2022-2023 files/Courses/ML Project/Data/Online data/4 ECG Lead 2 Dataset PhysioNet (Open Access)/New folder'\n",
    "\n",
    "# Iterate over files in the directory\n",
    "for filename in os.listdir(directory):\n",
    "    if filename.endswith('.csv'):  # Adjust the file extension as needed\n",
    "        filepath = os.path.join(directory, filename)\n",
    "        \n",
    "        # New column data\n",
    "        new_column_data = filename[:-4]\n",
    "\n",
    "        # Read the DataFrame from the file\n",
    "        # while loading to remove the first row i used skiprows=1, if skipping is not necessary use pd.read_csv(excel_file_path) \n",
    "        df = pd.read_csv(filepath)\n",
    "\n",
    "        # Insert a new column at the beginning\n",
    "        df.insert(0, 'data_ID', new_column_data)\n",
    "        #print(df)\n",
    "\n",
    "        # Save the modified DataFrame back to the file\n",
    "        df.to_csv(filepath, index=False)"
   ]
  },
  {
   "cell_type": "code",
   "execution_count": 2,
   "id": "ef2fc444",
   "metadata": {},
   "outputs": [],
   "source": [
    "import pandas as pd\n",
    "import os\n",
    "\n",
    "# Directory containing your files\n",
    "directory = 'C:/Users/Ewunetie/OneDrive - University of Gondar,/2022-2023 files/Courses/ML Project/Data/Online data/4 ECG Lead 2 Dataset PhysioNet (Open Access)/New folder2'\n",
    "\n",
    "# Iterate over files in the directory\n",
    "for filename in os.listdir(directory):\n",
    "    if filename.endswith('.csv'):  # Adjust the file extension as needed\n",
    "        filepath = os.path.join(directory, filename)\n",
    "        \n",
    "        # New column data\n",
    "        new_column_data = filename[:-4]\n",
    "\n",
    "        # Read the DataFrame from the file\n",
    "        # while loading to remove the first row i used skiprows=1, if skipping is not necessary use pd.read_csv(excel_file_path) \n",
    "        df = pd.read_csv(filepath)\n",
    "\n",
    "        # Insert a new column at the beginning\n",
    "        df.insert(0, 'data_ID', new_column_data)\n",
    "        #print(df)\n",
    "\n",
    "        # Save the modified DataFrame back to the file\n",
    "        df.to_csv(filepath, index=False)"
   ]
  },
  {
   "cell_type": "code",
   "execution_count": null,
   "id": "6b06faa9",
   "metadata": {},
   "outputs": [],
   "source": []
  }
 ],
 "metadata": {
  "kernelspec": {
   "display_name": "Python 3 (ipykernel)",
   "language": "python",
   "name": "python3"
  },
  "language_info": {
   "codemirror_mode": {
    "name": "ipython",
    "version": 3
   },
   "file_extension": ".py",
   "mimetype": "text/x-python",
   "name": "python",
   "nbconvert_exporter": "python",
   "pygments_lexer": "ipython3",
   "version": "3.10.9"
  }
 },
 "nbformat": 4,
 "nbformat_minor": 5
}
