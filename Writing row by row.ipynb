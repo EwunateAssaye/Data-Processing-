{
 "cells": [
  {
   "cell_type": "code",
   "execution_count": null,
   "id": "c069582a",
   "metadata": {},
   "outputs": [],
   "source": [
    "import csv\n",
    "from datetime import datetime\n",
    "\n",
    "# Sample list of dates\n",
    "dates = ['2022-01-01', '2022-02-01', '2022-03-01', '2022-04-01']\n",
    "\n",
    "# File path\n",
    "file_path = 'dates.csv'\n",
    "\n",
    "# Writing dates iteratively to a CSV file row-wise\n",
    "with open(file_path, mode='w', newline='') as file:\n",
    "    writer = csv.writer(file)\n",
    "    \n",
    "    # Write header if needed\n",
    "    # writer.writerow(['Date'])\n",
    "\n",
    "    # Write dates row-wise\n",
    "    for date_str in dates:\n",
    "        # Convert date string to a datetime object if needed\n",
    "        # date_obj = datetime.strptime(date_str, '%Y-%m-%d')\n",
    "        # writer.writerow([date_obj.strftime('%Y-%m-%d')])\n",
    "        \n",
    "        # If date strings are directly used\n",
    "        writer.writerow([date_str])\n",
    "\n",
    "print(f'Dates have been written to {file_path} successfully.')"
   ]
  }
 ],
 "metadata": {
  "kernelspec": {
   "display_name": "Python 3 (ipykernel)",
   "language": "python",
   "name": "python3"
  },
  "language_info": {
   "codemirror_mode": {
    "name": "ipython",
    "version": 3
   },
   "file_extension": ".py",
   "mimetype": "text/x-python",
   "name": "python",
   "nbconvert_exporter": "python",
   "pygments_lexer": "ipython3",
   "version": "3.10.9"
  }
 },
 "nbformat": 4,
 "nbformat_minor": 5
}
