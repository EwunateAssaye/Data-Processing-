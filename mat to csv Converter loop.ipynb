{
 "cells": [
  {
   "cell_type": "markdown",
   "id": "e47ef4fe",
   "metadata": {},
   "source": [
    "### File conversion\n",
    "by defining a function which can iteratively perform the following actions on each file\n",
    "1. load each file with .mat file format in a specific folder\n",
    "2. read the loaded data\n",
    "3. identifying the key which is associated with the required data using dictionary key method (in this case the last key)\n",
    "4. extract the required data from the file by using key\n",
    "5. convert the accessed data to standard python array using pandas dataframe\n",
    "6. assign a new name for the coming csv file by taking the file name from the original data name and removing .mat from it and concatinating it with .csv\n",
    "7. define the output file path for the comming csv file\n",
    "8. writing the array data to csv and save it on the output file path\n",
    "9. enter the file path \n",
    "10. call the function and give the file path to it\n"
   ]
  },
  {
   "cell_type": "code",
   "execution_count": 1,
   "id": "b46ba913",
   "metadata": {},
   "outputs": [],
   "source": [
    "import os\n",
    "import csv\n",
    "from scipy.io import loadmat\n",
    "import pandas as pd\n",
    "import numpy as np\n",
    "def convert_mat_to_csv(folder_path):\n",
    "    # Get a list of all files in the specified folder\n",
    "    files = os.listdir(folder_path)\n",
    "\n",
    "    # Iterate through each file in the folder\n",
    "    for file_name in files:\n",
    "        # Check if the file has a .mat extension\n",
    "        if file_name.endswith('.mat'):\n",
    "            # Construct the full path for the .mat file\n",
    "            mat_file_path = os.path.join(folder_path, file_name)\n",
    "\n",
    "            # Load data from the .mat file\n",
    "            mat_data = loadmat(mat_file_path)\n",
    "            \n",
    "            # converting each .mat file to .csv\n",
    "            # accessing the last key of a dictionary which is the form of array\n",
    "            last_key = list(mat_data.keys())[-1]\n",
    "            \n",
    "            # accessing the array of the last key\n",
    "            matt=mat_data[last_key]\n",
    "            \n",
    "            #converting the array in to python standard array form which is dataframe\n",
    "            df = pd.DataFrame(np.array(matt))\n",
    "            \n",
    "            # assigning aname for each .csv to be created by removing the last four characters from the original name \n",
    "            # and adding .csv \n",
    "            file_name = file_name[:-4]+'.csv'\n",
    "            \n",
    "            # locating the output folde\n",
    "            output_file_path = os.path.join(folder_path, file_name)\n",
    "            \n",
    "            #writing the array to csv file \n",
    "            df.to_csv(output_file_path, index=False)\n",
    "            #df.to_csv(file_name)\n",
    "            \n",
    "folder_path = 'C:/Users/Ewunetie/Downloads/Compressed/Collected_raw'\n",
    "convert_mat_to_csv(folder_path)"
   ]
  },
  {
   "cell_type": "code",
   "execution_count": null,
   "id": "3aca6d31",
   "metadata": {},
   "outputs": [],
   "source": []
  }
 ],
 "metadata": {
  "kernelspec": {
   "display_name": "Python 3 (ipykernel)",
   "language": "python",
   "name": "python3"
  },
  "language_info": {
   "codemirror_mode": {
    "name": "ipython",
    "version": 3
   },
   "file_extension": ".py",
   "mimetype": "text/x-python",
   "name": "python",
   "nbconvert_exporter": "python",
   "pygments_lexer": "ipython3",
   "version": "3.10.9"
  }
 },
 "nbformat": 4,
 "nbformat_minor": 5
}
